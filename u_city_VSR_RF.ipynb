{
 "cells": [
  {
   "cell_type": "markdown",
   "metadata": {},
   "source": [
    "# Will I get a ticket if I'm pulled over in University City, MO?\n",
    "## Utilizing the RandomForest algorithm to predict citation rates"
   ]
  },
  {
   "cell_type": "markdown",
   "metadata": {},
   "source": [
    "#### First things first! We have to import all of the libraries we need to analyze this data!"
   ]
  },
  {
   "cell_type": "code",
   "execution_count": 1,
   "metadata": {},
   "outputs": [],
   "source": [
    "import pandas as pd\n",
    "import numpy as np\n",
    "import matplotlib.pyplot as plt\n",
    "%matplotlib inline\n",
    "import seaborn as sns\n",
    "import pydot\n",
    "import category_encoders as ce\n",
    "\n",
    "from sklearn.tree import export_graphviz\n",
    "from sklearn.model_selection import train_test_split\n",
    "from sklearn.ensemble import RandomForestClassifier\n",
    "from sklearn.metrics import accuracy_score"
   ]
  },
  {
   "cell_type": "markdown",
   "metadata": {},
   "source": [
    "#### Great! Now we need to import the mostly cleaned DataFrame we already began our analysis on!"
   ]
  },
  {
   "cell_type": "code",
   "execution_count": 2,
   "metadata": {},
   "outputs": [
    {
     "data": {
      "text/html": [
       "<div>\n",
       "<style scoped>\n",
       "    .dataframe tbody tr th:only-of-type {\n",
       "        vertical-align: middle;\n",
       "    }\n",
       "\n",
       "    .dataframe tbody tr th {\n",
       "        vertical-align: top;\n",
       "    }\n",
       "\n",
       "    .dataframe thead th {\n",
       "        text-align: right;\n",
       "    }\n",
       "</style>\n",
       "<table border=\"1\" class=\"dataframe\">\n",
       "  <thead>\n",
       "    <tr style=\"text-align: right;\">\n",
       "      <th></th>\n",
       "      <th>ORI</th>\n",
       "      <th>DSN</th>\n",
       "      <th>STOP_DATE</th>\n",
       "      <th>SEQ_NO</th>\n",
       "      <th>REF_NO</th>\n",
       "      <th>EVENT_NO</th>\n",
       "      <th>SEX</th>\n",
       "      <th>RACE</th>\n",
       "      <th>AGE_CODE</th>\n",
       "      <th>GEO</th>\n",
       "      <th>...</th>\n",
       "      <th>SECOND_DSN</th>\n",
       "      <th>TIME_OF_STOP</th>\n",
       "      <th>RACE_BEFORE_STOP</th>\n",
       "      <th>RES_JURISDICTION</th>\n",
       "      <th>STOP_NO_ACTION</th>\n",
       "      <th>SEARCH_BOTH</th>\n",
       "      <th>CHRG_TRAFF_VIOL</th>\n",
       "      <th>VIOL_INVESTIGATIVE</th>\n",
       "      <th>STOP_OTHER</th>\n",
       "      <th>STATUS_CODE</th>\n",
       "    </tr>\n",
       "  </thead>\n",
       "  <tbody>\n",
       "    <tr>\n",
       "      <th>0</th>\n",
       "      <td>MO0957300</td>\n",
       "      <td>516</td>\n",
       "      <td>2016-01-01</td>\n",
       "      <td>0</td>\n",
       "      <td>TA00000122</td>\n",
       "      <td>NaN</td>\n",
       "      <td>M</td>\n",
       "      <td>B</td>\n",
       "      <td>B</td>\n",
       "      <td>NaN</td>\n",
       "      <td>...</td>\n",
       "      <td>NaN</td>\n",
       "      <td>22:20:00</td>\n",
       "      <td>N</td>\n",
       "      <td>N</td>\n",
       "      <td>N</td>\n",
       "      <td>NaN</td>\n",
       "      <td>NaN</td>\n",
       "      <td>NaN</td>\n",
       "      <td>NaN</td>\n",
       "      <td>FIN</td>\n",
       "    </tr>\n",
       "    <tr>\n",
       "      <th>1</th>\n",
       "      <td>MO0957300</td>\n",
       "      <td>516</td>\n",
       "      <td>2016-01-01</td>\n",
       "      <td>1</td>\n",
       "      <td>TA00000123</td>\n",
       "      <td>NaN</td>\n",
       "      <td>F</td>\n",
       "      <td>B</td>\n",
       "      <td>D</td>\n",
       "      <td>NaN</td>\n",
       "      <td>...</td>\n",
       "      <td>NaN</td>\n",
       "      <td>22:43:00</td>\n",
       "      <td>N</td>\n",
       "      <td>Y</td>\n",
       "      <td>NaN</td>\n",
       "      <td>NaN</td>\n",
       "      <td>NaN</td>\n",
       "      <td>NaN</td>\n",
       "      <td>NaN</td>\n",
       "      <td>FIN</td>\n",
       "    </tr>\n",
       "    <tr>\n",
       "      <th>2</th>\n",
       "      <td>MO0957300</td>\n",
       "      <td>516</td>\n",
       "      <td>2016-01-01</td>\n",
       "      <td>2</td>\n",
       "      <td>TA00000124</td>\n",
       "      <td>NaN</td>\n",
       "      <td>M</td>\n",
       "      <td>B</td>\n",
       "      <td>B</td>\n",
       "      <td>NaN</td>\n",
       "      <td>...</td>\n",
       "      <td>NaN</td>\n",
       "      <td>23:10:00</td>\n",
       "      <td>N</td>\n",
       "      <td>N</td>\n",
       "      <td>NaN</td>\n",
       "      <td>NaN</td>\n",
       "      <td>NaN</td>\n",
       "      <td>NaN</td>\n",
       "      <td>NaN</td>\n",
       "      <td>FIN</td>\n",
       "    </tr>\n",
       "    <tr>\n",
       "      <th>3</th>\n",
       "      <td>MO0957300</td>\n",
       "      <td>495</td>\n",
       "      <td>2016-01-01</td>\n",
       "      <td>0</td>\n",
       "      <td>TA00000138</td>\n",
       "      <td>NaN</td>\n",
       "      <td>M</td>\n",
       "      <td>B</td>\n",
       "      <td>C</td>\n",
       "      <td>NaN</td>\n",
       "      <td>...</td>\n",
       "      <td>NaN</td>\n",
       "      <td>19:34:00</td>\n",
       "      <td>N</td>\n",
       "      <td>Y</td>\n",
       "      <td>NaN</td>\n",
       "      <td>NaN</td>\n",
       "      <td>NaN</td>\n",
       "      <td>NaN</td>\n",
       "      <td>NaN</td>\n",
       "      <td>FIN</td>\n",
       "    </tr>\n",
       "    <tr>\n",
       "      <th>4</th>\n",
       "      <td>MO0957300</td>\n",
       "      <td>506</td>\n",
       "      <td>2016-01-01</td>\n",
       "      <td>0</td>\n",
       "      <td>TA00000147</td>\n",
       "      <td>NaN</td>\n",
       "      <td>F</td>\n",
       "      <td>W</td>\n",
       "      <td>D</td>\n",
       "      <td>NaN</td>\n",
       "      <td>...</td>\n",
       "      <td>NaN</td>\n",
       "      <td>20:18:00</td>\n",
       "      <td>N</td>\n",
       "      <td>Y</td>\n",
       "      <td>NaN</td>\n",
       "      <td>NaN</td>\n",
       "      <td>NaN</td>\n",
       "      <td>NaN</td>\n",
       "      <td>NaN</td>\n",
       "      <td>FIN</td>\n",
       "    </tr>\n",
       "  </tbody>\n",
       "</table>\n",
       "<p>5 rows × 65 columns</p>\n",
       "</div>"
      ],
      "text/plain": [
       "         ORI  DSN  STOP_DATE SEQ_NO      REF_NO EVENT_NO SEX RACE AGE_CODE  \\\n",
       "0  MO0957300  516 2016-01-01      0  TA00000122      NaN   M    B        B   \n",
       "1  MO0957300  516 2016-01-01      1  TA00000123      NaN   F    B        D   \n",
       "2  MO0957300  516 2016-01-01      2  TA00000124      NaN   M    B        B   \n",
       "3  MO0957300  495 2016-01-01      0  TA00000138      NaN   M    B        C   \n",
       "4  MO0957300  506 2016-01-01      0  TA00000147      NaN   F    W        D   \n",
       "\n",
       "   GEO  ... SECOND_DSN TIME_OF_STOP RACE_BEFORE_STOP RES_JURISDICTION  \\\n",
       "0  NaN  ...        NaN     22:20:00                N                N   \n",
       "1  NaN  ...        NaN     22:43:00                N                Y   \n",
       "2  NaN  ...        NaN     23:10:00                N                N   \n",
       "3  NaN  ...        NaN     19:34:00                N                Y   \n",
       "4  NaN  ...        NaN     20:18:00                N                Y   \n",
       "\n",
       "  STOP_NO_ACTION SEARCH_BOTH CHRG_TRAFF_VIOL VIOL_INVESTIGATIVE STOP_OTHER  \\\n",
       "0              N         NaN             NaN                NaN        NaN   \n",
       "1            NaN         NaN             NaN                NaN        NaN   \n",
       "2            NaN         NaN             NaN                NaN        NaN   \n",
       "3            NaN         NaN             NaN                NaN        NaN   \n",
       "4            NaN         NaN             NaN                NaN        NaN   \n",
       "\n",
       "  STATUS_CODE  \n",
       "0         FIN  \n",
       "1         FIN  \n",
       "2         FIN  \n",
       "3         FIN  \n",
       "4         FIN  \n",
       "\n",
       "[5 rows x 65 columns]"
      ]
     },
     "metadata": {},
     "output_type": "display_data"
    }
   ],
   "source": [
    "cleaned_VSR = pd.read_csv('cleaned_VSR.csv', index_col=0, dtype=object, parse_dates=['STOP_DATE', 'TIME_OF_STOP'])\n",
    "cleaned_VSR['TIME_OF_STOP'] = cleaned_VSR['TIME_OF_STOP'].dt.time\n",
    "\n",
    "display(cleaned_VSR.head())"
   ]
  },
  {
   "cell_type": "markdown",
   "metadata": {},
   "source": [
    "#### Hmmm. It's here, but we need to tweak a few more things to get it ready for our RandomForest algorithm!"
   ]
  },
  {
   "cell_type": "code",
   "execution_count": 3,
   "metadata": {},
   "outputs": [
    {
     "data": {
      "text/plain": [
       "Index(['ORI', 'DSN', 'STOP_DATE', 'SEQ_NO', 'REF_NO', 'EVENT_NO', 'SEX',\n",
       "       'RACE', 'AGE_CODE', 'GEO', 'STOP_LOCATION', 'VIOL_MOVING',\n",
       "       'VIOL_EQUIPMENT', 'VIOL_LICENSE', 'MOVING_SPEED', 'MOVING_LANE',\n",
       "       'MOVING_TAIL', 'MOVING_CMV', 'MOVING_SIGNAL', 'MOVING_OTHER',\n",
       "       'WARN_CITA_ISSUED', 'STOP_WARNING', 'STOP_CITATION', 'SEARCH_CONDUCT',\n",
       "       'DURATION_OF_SEARCH', 'CAUSE_CONSENT', 'CAUSE_DRG_ODOR',\n",
       "       'CAUSE_DOG_ALERT', 'CAUSE_PLN_VIEW', 'CAUSE_OFF_SFTY', 'CAUSE_INVNTRY',\n",
       "       'CAUSE_OTHER', 'CAUSE_INC_TO_ARR', 'SEARCHED_PERSON',\n",
       "       'SEARCHED_PROPERTY', 'CNTR_DISCOVERED', 'CNTR_DRUG_PAR',\n",
       "       'CNTR_CURRENCY', 'CNTR_WEAPON', 'CNTR_STLN_PROP', 'CNTR_OTHER',\n",
       "       'SEARCH_ARREST', 'CHRG_WAR_WAN', 'CHRG_DRUG_VIOL', 'CHRG_RESIST_ARR',\n",
       "       'CHRG_OFF_PERSON', 'CHRG_PROP_CRIME', 'CHRG_OTHER', 'CHRG_DWI',\n",
       "       'ENTER_DATE', 'ENTER_TIME', 'ENTER_ACID', 'LAST_UPDATE_DATE',\n",
       "       'LAST_UPDATE_TIME', 'LAST_UPDATE_ACID', 'SECOND_DSN', 'TIME_OF_STOP',\n",
       "       'RACE_BEFORE_STOP', 'RES_JURISDICTION', 'STOP_NO_ACTION', 'SEARCH_BOTH',\n",
       "       'CHRG_TRAFF_VIOL', 'VIOL_INVESTIGATIVE', 'STOP_OTHER', 'STATUS_CODE'],\n",
       "      dtype='object')"
      ]
     },
     "execution_count": 3,
     "metadata": {},
     "output_type": "execute_result"
    }
   ],
   "source": [
    "# Getting a list of all of the column names remaining that we can use for our feature engineering\n",
    "cleaned_VSR.columns"
   ]
  },
  {
   "cell_type": "markdown",
   "metadata": {},
   "source": [
    "#### Now let's convert our non-numeric data into a format that the algorithm likes!"
   ]
  },
  {
   "cell_type": "code",
   "execution_count": 4,
   "metadata": {},
   "outputs": [],
   "source": [
    "# This is only one way to encode the data. I'm choosing to get dummy columns for my features of interest.\n",
    "\n",
    "# Nominal Categorical Columns\n",
    "sex_dummies = pd.get_dummies(cleaned_VSR['SEX'], drop_first=True)\n",
    "race_dummies = pd.get_dummies(cleaned_VSR['RACE'], drop_first=True)\n",
    "stop_loc_dummies = pd.get_dummies(cleaned_VSR['STOP_LOCATION'], drop_first=True)\n",
    "\n",
    "# Ordinal Categorical Columns\n",
    "age_dummies = pd.get_dummies(cleaned_VSR['AGE_CODE'], drop_first=True)\n",
    "search_dur_dummies = pd.get_dummies(cleaned_VSR['DURATION_OF_SEARCH'], drop_first=True)\n",
    "\n",
    "# Multi-column Categoricals\n",
    "viol_dummies = pd.get_dummies(cleaned_VSR[['VIOL_MOVING', 'VIOL_EQUIPMENT', 'VIOL_LICENSE', 'VIOL_INVESTIGATIVE']])\n",
    "moving_viol_dummies = pd.get_dummies(cleaned_VSR[['MOVING_SPEED', 'MOVING_LANE', 'MOVING_TAIL', 'MOVING_CMV', 'MOVING_SIGNAL', 'MOVING_OTHER']])\n",
    "\n",
    "# Label dummies\n",
    "cit_dummies = pd.get_dummies(cleaned_VSR['STOP_CITATION'])\n",
    "\n",
    "# display(moving_viol_dummies)"
   ]
  },
  {
   "cell_type": "markdown",
   "metadata": {},
   "source": [
    "#### Before we proceed, I'm going to rename some of the new columns so that they're more readable."
   ]
  },
  {
   "cell_type": "code",
   "execution_count": 5,
   "metadata": {},
   "outputs": [
    {
     "data": {
      "text/html": [
       "<div>\n",
       "<style scoped>\n",
       "    .dataframe tbody tr th:only-of-type {\n",
       "        vertical-align: middle;\n",
       "    }\n",
       "\n",
       "    .dataframe tbody tr th {\n",
       "        vertical-align: top;\n",
       "    }\n",
       "\n",
       "    .dataframe thead th {\n",
       "        text-align: right;\n",
       "    }\n",
       "</style>\n",
       "<table border=\"1\" class=\"dataframe\">\n",
       "  <thead>\n",
       "    <tr style=\"text-align: right;\">\n",
       "      <th></th>\n",
       "      <th>16-30</th>\n",
       "      <th>30+</th>\n",
       "    </tr>\n",
       "  </thead>\n",
       "  <tbody>\n",
       "    <tr>\n",
       "      <th>0</th>\n",
       "      <td>0</td>\n",
       "      <td>0</td>\n",
       "    </tr>\n",
       "    <tr>\n",
       "      <th>1</th>\n",
       "      <td>0</td>\n",
       "      <td>0</td>\n",
       "    </tr>\n",
       "    <tr>\n",
       "      <th>2</th>\n",
       "      <td>0</td>\n",
       "      <td>0</td>\n",
       "    </tr>\n",
       "    <tr>\n",
       "      <th>3</th>\n",
       "      <td>0</td>\n",
       "      <td>0</td>\n",
       "    </tr>\n",
       "    <tr>\n",
       "      <th>4</th>\n",
       "      <td>0</td>\n",
       "      <td>0</td>\n",
       "    </tr>\n",
       "    <tr>\n",
       "      <th>...</th>\n",
       "      <td>...</td>\n",
       "      <td>...</td>\n",
       "    </tr>\n",
       "    <tr>\n",
       "      <th>17600</th>\n",
       "      <td>0</td>\n",
       "      <td>0</td>\n",
       "    </tr>\n",
       "    <tr>\n",
       "      <th>17601</th>\n",
       "      <td>0</td>\n",
       "      <td>0</td>\n",
       "    </tr>\n",
       "    <tr>\n",
       "      <th>17602</th>\n",
       "      <td>0</td>\n",
       "      <td>0</td>\n",
       "    </tr>\n",
       "    <tr>\n",
       "      <th>17603</th>\n",
       "      <td>0</td>\n",
       "      <td>0</td>\n",
       "    </tr>\n",
       "    <tr>\n",
       "      <th>17604</th>\n",
       "      <td>0</td>\n",
       "      <td>0</td>\n",
       "    </tr>\n",
       "  </tbody>\n",
       "</table>\n",
       "<p>17605 rows × 2 columns</p>\n",
       "</div>"
      ],
      "text/plain": [
       "       16-30  30+\n",
       "0          0    0\n",
       "1          0    0\n",
       "2          0    0\n",
       "3          0    0\n",
       "4          0    0\n",
       "...      ...  ...\n",
       "17600      0    0\n",
       "17601      0    0\n",
       "17602      0    0\n",
       "17603      0    0\n",
       "17604      0    0\n",
       "\n",
       "[17605 rows x 2 columns]"
      ]
     },
     "metadata": {},
     "output_type": "display_data"
    }
   ],
   "source": [
    "sex_dummies.rename(columns={'M': 'Male'}, inplace=True)\n",
    "race_dummies.rename(columns={'B': 'Black', 'H': 'Hispanic', 'I': 'Indigenous', 'U': 'Unknown', 'W': 'White'}, inplace=True)\n",
    "stop_loc_dummies.rename(columns={'I': 'Interstate', 'N': 'County Rd', 'O': 'Other', 'S': 'State Hwy', 'U': 'US Hwy'}, inplace=True)\n",
    "age_dummies.rename(columns={'B': '18-29', 'C': '30-39', 'D': '40+'}, inplace=True)\n",
    "search_dur_dummies.rename(columns={'B': '16-30', 'C': '30+'}, inplace=True)\n",
    "\n",
    "cit_dummies.rename(columns={'C': 'Citation'}, inplace=True)\n",
    "\n",
    "display(search_dur_dummies)"
   ]
  },
  {
   "cell_type": "markdown",
   "metadata": {},
   "source": [
    "#### Now that the categorical data has been properly encoded, let's construct a *new* DataFrame to feed to our RandomForest model!"
   ]
  },
  {
   "cell_type": "code",
   "execution_count": 6,
   "metadata": {},
   "outputs": [
    {
     "data": {
      "text/html": [
       "<div>\n",
       "<style scoped>\n",
       "    .dataframe tbody tr th:only-of-type {\n",
       "        vertical-align: middle;\n",
       "    }\n",
       "\n",
       "    .dataframe tbody tr th {\n",
       "        vertical-align: top;\n",
       "    }\n",
       "\n",
       "    .dataframe thead th {\n",
       "        text-align: right;\n",
       "    }\n",
       "</style>\n",
       "<table border=\"1\" class=\"dataframe\">\n",
       "  <thead>\n",
       "    <tr style=\"text-align: right;\">\n",
       "      <th></th>\n",
       "      <th>Male</th>\n",
       "      <th>Black</th>\n",
       "      <th>Hispanic</th>\n",
       "      <th>Indigenous</th>\n",
       "      <th>Unknown</th>\n",
       "      <th>White</th>\n",
       "      <th>Interstate</th>\n",
       "      <th>County Rd</th>\n",
       "      <th>Other</th>\n",
       "      <th>State Hwy</th>\n",
       "      <th>...</th>\n",
       "      <th>VIOL_EQUIPMENT_E</th>\n",
       "      <th>VIOL_LICENSE_L</th>\n",
       "      <th>VIOL_INVESTIGATIVE_I</th>\n",
       "      <th>MOVING_SPEED_S</th>\n",
       "      <th>MOVING_LANE_I</th>\n",
       "      <th>MOVING_TAIL_T</th>\n",
       "      <th>MOVING_CMV_C</th>\n",
       "      <th>MOVING_SIGNAL_F</th>\n",
       "      <th>MOVING_OTHER_O</th>\n",
       "      <th>Citation</th>\n",
       "    </tr>\n",
       "  </thead>\n",
       "  <tbody>\n",
       "    <tr>\n",
       "      <th>0</th>\n",
       "      <td>1</td>\n",
       "      <td>1</td>\n",
       "      <td>0</td>\n",
       "      <td>0</td>\n",
       "      <td>0</td>\n",
       "      <td>0</td>\n",
       "      <td>0</td>\n",
       "      <td>0</td>\n",
       "      <td>0</td>\n",
       "      <td>1</td>\n",
       "      <td>...</td>\n",
       "      <td>1</td>\n",
       "      <td>0</td>\n",
       "      <td>0</td>\n",
       "      <td>0</td>\n",
       "      <td>0</td>\n",
       "      <td>0</td>\n",
       "      <td>0</td>\n",
       "      <td>0</td>\n",
       "      <td>0</td>\n",
       "      <td>0</td>\n",
       "    </tr>\n",
       "    <tr>\n",
       "      <th>1</th>\n",
       "      <td>0</td>\n",
       "      <td>1</td>\n",
       "      <td>0</td>\n",
       "      <td>0</td>\n",
       "      <td>0</td>\n",
       "      <td>0</td>\n",
       "      <td>0</td>\n",
       "      <td>0</td>\n",
       "      <td>0</td>\n",
       "      <td>1</td>\n",
       "      <td>...</td>\n",
       "      <td>0</td>\n",
       "      <td>0</td>\n",
       "      <td>0</td>\n",
       "      <td>1</td>\n",
       "      <td>0</td>\n",
       "      <td>0</td>\n",
       "      <td>0</td>\n",
       "      <td>0</td>\n",
       "      <td>0</td>\n",
       "      <td>0</td>\n",
       "    </tr>\n",
       "    <tr>\n",
       "      <th>2</th>\n",
       "      <td>1</td>\n",
       "      <td>1</td>\n",
       "      <td>0</td>\n",
       "      <td>0</td>\n",
       "      <td>0</td>\n",
       "      <td>0</td>\n",
       "      <td>0</td>\n",
       "      <td>0</td>\n",
       "      <td>0</td>\n",
       "      <td>0</td>\n",
       "      <td>...</td>\n",
       "      <td>0</td>\n",
       "      <td>0</td>\n",
       "      <td>0</td>\n",
       "      <td>1</td>\n",
       "      <td>0</td>\n",
       "      <td>0</td>\n",
       "      <td>0</td>\n",
       "      <td>0</td>\n",
       "      <td>0</td>\n",
       "      <td>1</td>\n",
       "    </tr>\n",
       "    <tr>\n",
       "      <th>3</th>\n",
       "      <td>1</td>\n",
       "      <td>1</td>\n",
       "      <td>0</td>\n",
       "      <td>0</td>\n",
       "      <td>0</td>\n",
       "      <td>0</td>\n",
       "      <td>0</td>\n",
       "      <td>0</td>\n",
       "      <td>0</td>\n",
       "      <td>0</td>\n",
       "      <td>...</td>\n",
       "      <td>1</td>\n",
       "      <td>0</td>\n",
       "      <td>0</td>\n",
       "      <td>0</td>\n",
       "      <td>0</td>\n",
       "      <td>0</td>\n",
       "      <td>0</td>\n",
       "      <td>0</td>\n",
       "      <td>0</td>\n",
       "      <td>0</td>\n",
       "    </tr>\n",
       "    <tr>\n",
       "      <th>4</th>\n",
       "      <td>0</td>\n",
       "      <td>0</td>\n",
       "      <td>0</td>\n",
       "      <td>0</td>\n",
       "      <td>0</td>\n",
       "      <td>1</td>\n",
       "      <td>0</td>\n",
       "      <td>0</td>\n",
       "      <td>0</td>\n",
       "      <td>0</td>\n",
       "      <td>...</td>\n",
       "      <td>0</td>\n",
       "      <td>0</td>\n",
       "      <td>0</td>\n",
       "      <td>1</td>\n",
       "      <td>0</td>\n",
       "      <td>0</td>\n",
       "      <td>0</td>\n",
       "      <td>0</td>\n",
       "      <td>0</td>\n",
       "      <td>1</td>\n",
       "    </tr>\n",
       "  </tbody>\n",
       "</table>\n",
       "<p>5 rows × 27 columns</p>\n",
       "</div>"
      ],
      "text/plain": [
       "   Male  Black  Hispanic  Indigenous  Unknown  White  Interstate  County Rd  \\\n",
       "0     1      1         0           0        0      0           0          0   \n",
       "1     0      1         0           0        0      0           0          0   \n",
       "2     1      1         0           0        0      0           0          0   \n",
       "3     1      1         0           0        0      0           0          0   \n",
       "4     0      0         0           0        0      1           0          0   \n",
       "\n",
       "   Other  State Hwy  ...  VIOL_EQUIPMENT_E  VIOL_LICENSE_L  \\\n",
       "0      0          1  ...                 1               0   \n",
       "1      0          1  ...                 0               0   \n",
       "2      0          0  ...                 0               0   \n",
       "3      0          0  ...                 1               0   \n",
       "4      0          0  ...                 0               0   \n",
       "\n",
       "   VIOL_INVESTIGATIVE_I  MOVING_SPEED_S  MOVING_LANE_I  MOVING_TAIL_T  \\\n",
       "0                     0               0              0              0   \n",
       "1                     0               1              0              0   \n",
       "2                     0               1              0              0   \n",
       "3                     0               0              0              0   \n",
       "4                     0               1              0              0   \n",
       "\n",
       "   MOVING_CMV_C  MOVING_SIGNAL_F  MOVING_OTHER_O  Citation  \n",
       "0             0                0               0         0  \n",
       "1             0                0               0         0  \n",
       "2             0                0               0         1  \n",
       "3             0                0               0         0  \n",
       "4             0                0               0         1  \n",
       "\n",
       "[5 rows x 27 columns]"
      ]
     },
     "metadata": {},
     "output_type": "display_data"
    }
   ],
   "source": [
    "VSR_Rand_For = pd.concat([sex_dummies, race_dummies, stop_loc_dummies, age_dummies, search_dur_dummies, \\\n",
    "                          viol_dummies, moving_viol_dummies, cit_dummies], axis=1)\n",
    "\n",
    "display(VSR_Rand_For.head())"
   ]
  },
  {
   "cell_type": "markdown",
   "metadata": {},
   "source": [
    "#### I have to declare my target variable, which is whether or not the vehicle stop resulted in a citation being issued"
   ]
  },
  {
   "cell_type": "code",
   "execution_count": 7,
   "metadata": {},
   "outputs": [],
   "source": [
    "X = VSR_Rand_For.drop(['Citation'], axis=1)\n",
    "y = VSR_Rand_For['Citation']"
   ]
  },
  {
   "cell_type": "markdown",
   "metadata": {},
   "source": [
    "#### The remaining data must now be split up to ensure there is no data leakage"
   ]
  },
  {
   "cell_type": "code",
   "execution_count": 8,
   "metadata": {},
   "outputs": [
    {
     "data": {
      "text/plain": [
       "((11795, 26), (5810, 26))"
      ]
     },
     "execution_count": 8,
     "metadata": {},
     "output_type": "execute_result"
    }
   ],
   "source": [
    "X_train, X_test, y_train, y_test = train_test_split(X, y, test_size = 0.33, random_state = 42)\n",
    "X_train.shape, X_test.shape"
   ]
  },
  {
   "cell_type": "code",
   "execution_count": 9,
   "metadata": {},
   "outputs": [
    {
     "data": {
      "text/plain": [
       "Index(['Male', 'Black', 'Hispanic', 'Indigenous', 'Unknown', 'White',\n",
       "       'Interstate', 'County Rd', 'Other', 'State Hwy', 'US Hwy', '18-29',\n",
       "       '30-39', '40+', '16-30', '30+', 'VIOL_MOVING_M', 'VIOL_EQUIPMENT_E',\n",
       "       'VIOL_LICENSE_L', 'VIOL_INVESTIGATIVE_I', 'MOVING_SPEED_S',\n",
       "       'MOVING_LANE_I', 'MOVING_TAIL_T', 'MOVING_CMV_C', 'MOVING_SIGNAL_F',\n",
       "       'MOVING_OTHER_O'],\n",
       "      dtype='object')"
      ]
     },
     "metadata": {},
     "output_type": "display_data"
    }
   ],
   "source": [
    "display(X_train.columns)"
   ]
  },
  {
   "cell_type": "markdown",
   "metadata": {},
   "source": [
    "#### We're *finally* ready for our RandomForest algorithm!"
   ]
  },
  {
   "cell_type": "code",
   "execution_count": 10,
   "metadata": {},
   "outputs": [
    {
     "name": "stdout",
     "output_type": "stream",
     "text": [
      "Model accuracy score with 10 decision trees : 0.6446\n"
     ]
    }
   ],
   "source": [
    "# First, we have to instantiate the classifier \n",
    "rfc = RandomForestClassifier(n_estimators=10, random_state=42)\n",
    "\n",
    "# Then we fit the model on our training data\n",
    "rfc.fit(X_train, y_train)\n",
    "\n",
    "# Finally, we predict the testing data\n",
    "y_pred = rfc.predict(X_test)\n",
    "\n",
    "# How did we do? Let's check the accuracy score!\n",
    "print('Model accuracy score with 10 decision trees : {0:0.4f}'. format(accuracy_score(y_test, y_pred)))"
   ]
  },
  {
   "cell_type": "markdown",
   "metadata": {},
   "source": [
    "#### Not too bad, but also not too great! Let's check out how our features did, to see if we can start to improve on the model's performance!"
   ]
  },
  {
   "cell_type": "code",
   "execution_count": 11,
   "metadata": {},
   "outputs": [
    {
     "data": {
      "text/plain": [
       "VIOL_INVESTIGATIVE_I    0.182494\n",
       "MOVING_SPEED_S          0.124795\n",
       "VIOL_EQUIPMENT_E        0.093105\n",
       "VIOL_MOVING_M           0.079077\n",
       "Male                    0.074082\n",
       "County Rd               0.056838\n",
       "State Hwy               0.038217\n",
       "Black                   0.036883\n",
       "VIOL_LICENSE_L          0.036114\n",
       "30-39                   0.033382\n",
       "18-29                   0.031624\n",
       "MOVING_OTHER_O          0.031615\n",
       "40+                     0.030910\n",
       "White                   0.030577\n",
       "Other                   0.023265\n",
       "Unknown                 0.017889\n",
       "16-30                   0.016870\n",
       "MOVING_LANE_I           0.015069\n",
       "Hispanic                0.011178\n",
       "Interstate              0.011022\n",
       "MOVING_SIGNAL_F         0.009564\n",
       "Indigenous              0.008912\n",
       "MOVING_TAIL_T           0.003720\n",
       "30+                     0.001365\n",
       "MOVING_CMV_C            0.000833\n",
       "US Hwy                  0.000599\n",
       "dtype: float64"
      ]
     },
     "execution_count": 11,
     "metadata": {},
     "output_type": "execute_result"
    }
   ],
   "source": [
    "feature_scores = pd.Series(rfc.feature_importances_, index=X_train.columns).sort_values(ascending=False)\n",
    "feature_scores"
   ]
  },
  {
   "cell_type": "code",
   "execution_count": 12,
   "metadata": {},
   "outputs": [
    {
     "data": {
      "image/png": "[encoded data removed]",
      "text/plain": [
       "<Figure size 432x288 with 1 Axes>"
      ]
     },
     "metadata": {
      "needs_background": "light"
     },
     "output_type": "display_data"
    }
   ],
   "source": [
    "# Let's plot the numbers to show it in a more visual format\n",
    "sns.barplot(x=feature_scores, y=feature_scores.index)\n",
    "\n",
    "# Adding labels to the graph\n",
    "plt.xlabel('Feature Importance Score')\n",
    "plt.ylabel('Features')\n",
    "\n",
    "# Adding a title to the graph\n",
    "plt.title(\"Visualizing Important Features\")\n",
    "\n",
    "# Visualizing the graph\n",
    "plt.show()"
   ]
  },
  {
   "cell_type": "markdown",
   "metadata": {},
   "source": [
    "#### Okay! Let's try adding in one potential feature that wasn't added at the beginning, remove or replace a few others, and rerun our model!"
   ]
  },
  {
   "cell_type": "code",
   "execution_count": 13,
   "metadata": {},
   "outputs": [
    {
     "data": {
      "text/html": [
       "<div>\n",
       "<style scoped>\n",
       "    .dataframe tbody tr th:only-of-type {\n",
       "        vertical-align: middle;\n",
       "    }\n",
       "\n",
       "    .dataframe tbody tr th {\n",
       "        vertical-align: top;\n",
       "    }\n",
       "\n",
       "    .dataframe thead th {\n",
       "        text-align: right;\n",
       "    }\n",
       "</style>\n",
       "<table border=\"1\" class=\"dataframe\">\n",
       "  <thead>\n",
       "    <tr style=\"text-align: right;\">\n",
       "      <th></th>\n",
       "      <th>Male</th>\n",
       "      <th>Black</th>\n",
       "      <th>Hispanic</th>\n",
       "      <th>Indigenous</th>\n",
       "      <th>Unknown</th>\n",
       "      <th>White</th>\n",
       "      <th>Interstate</th>\n",
       "      <th>County Rd</th>\n",
       "      <th>Other</th>\n",
       "      <th>State Hwy</th>\n",
       "      <th>...</th>\n",
       "      <th>VIOL_LICENSE_L</th>\n",
       "      <th>VIOL_INVESTIGATIVE_I</th>\n",
       "      <th>MOVING_SPEED_S</th>\n",
       "      <th>MOVING_LANE_I</th>\n",
       "      <th>MOVING_TAIL_T</th>\n",
       "      <th>MOVING_CMV_C</th>\n",
       "      <th>MOVING_SIGNAL_F</th>\n",
       "      <th>MOVING_OTHER_O</th>\n",
       "      <th>Resident</th>\n",
       "      <th>Citation</th>\n",
       "    </tr>\n",
       "  </thead>\n",
       "  <tbody>\n",
       "    <tr>\n",
       "      <th>0</th>\n",
       "      <td>1</td>\n",
       "      <td>1</td>\n",
       "      <td>0</td>\n",
       "      <td>0</td>\n",
       "      <td>0</td>\n",
       "      <td>0</td>\n",
       "      <td>0</td>\n",
       "      <td>0</td>\n",
       "      <td>0</td>\n",
       "      <td>1</td>\n",
       "      <td>...</td>\n",
       "      <td>0</td>\n",
       "      <td>0</td>\n",
       "      <td>0</td>\n",
       "      <td>0</td>\n",
       "      <td>0</td>\n",
       "      <td>0</td>\n",
       "      <td>0</td>\n",
       "      <td>0</td>\n",
       "      <td>0</td>\n",
       "      <td>0</td>\n",
       "    </tr>\n",
       "    <tr>\n",
       "      <th>1</th>\n",
       "      <td>0</td>\n",
       "      <td>1</td>\n",
       "      <td>0</td>\n",
       "      <td>0</td>\n",
       "      <td>0</td>\n",
       "      <td>0</td>\n",
       "      <td>0</td>\n",
       "      <td>0</td>\n",
       "      <td>0</td>\n",
       "      <td>1</td>\n",
       "      <td>...</td>\n",
       "      <td>0</td>\n",
       "      <td>0</td>\n",
       "      <td>1</td>\n",
       "      <td>0</td>\n",
       "      <td>0</td>\n",
       "      <td>0</td>\n",
       "      <td>0</td>\n",
       "      <td>0</td>\n",
       "      <td>1</td>\n",
       "      <td>0</td>\n",
       "    </tr>\n",
       "    <tr>\n",
       "      <th>2</th>\n",
       "      <td>1</td>\n",
       "      <td>1</td>\n",
       "      <td>0</td>\n",
       "      <td>0</td>\n",
       "      <td>0</td>\n",
       "      <td>0</td>\n",
       "      <td>0</td>\n",
       "      <td>0</td>\n",
       "      <td>0</td>\n",
       "      <td>0</td>\n",
       "      <td>...</td>\n",
       "      <td>0</td>\n",
       "      <td>0</td>\n",
       "      <td>1</td>\n",
       "      <td>0</td>\n",
       "      <td>0</td>\n",
       "      <td>0</td>\n",
       "      <td>0</td>\n",
       "      <td>0</td>\n",
       "      <td>0</td>\n",
       "      <td>1</td>\n",
       "    </tr>\n",
       "    <tr>\n",
       "      <th>3</th>\n",
       "      <td>1</td>\n",
       "      <td>1</td>\n",
       "      <td>0</td>\n",
       "      <td>0</td>\n",
       "      <td>0</td>\n",
       "      <td>0</td>\n",
       "      <td>0</td>\n",
       "      <td>0</td>\n",
       "      <td>0</td>\n",
       "      <td>0</td>\n",
       "      <td>...</td>\n",
       "      <td>0</td>\n",
       "      <td>0</td>\n",
       "      <td>0</td>\n",
       "      <td>0</td>\n",
       "      <td>0</td>\n",
       "      <td>0</td>\n",
       "      <td>0</td>\n",
       "      <td>0</td>\n",
       "      <td>1</td>\n",
       "      <td>0</td>\n",
       "    </tr>\n",
       "    <tr>\n",
       "      <th>4</th>\n",
       "      <td>0</td>\n",
       "      <td>0</td>\n",
       "      <td>0</td>\n",
       "      <td>0</td>\n",
       "      <td>0</td>\n",
       "      <td>1</td>\n",
       "      <td>0</td>\n",
       "      <td>0</td>\n",
       "      <td>0</td>\n",
       "      <td>0</td>\n",
       "      <td>...</td>\n",
       "      <td>0</td>\n",
       "      <td>0</td>\n",
       "      <td>1</td>\n",
       "      <td>0</td>\n",
       "      <td>0</td>\n",
       "      <td>0</td>\n",
       "      <td>0</td>\n",
       "      <td>0</td>\n",
       "      <td>1</td>\n",
       "      <td>1</td>\n",
       "    </tr>\n",
       "  </tbody>\n",
       "</table>\n",
       "<p>5 rows × 25 columns</p>\n",
       "</div>"
      ],
      "text/plain": [
       "   Male  Black  Hispanic  Indigenous  Unknown  White  Interstate  County Rd  \\\n",
       "0     1      1         0           0        0      0           0          0   \n",
       "1     0      1         0           0        0      0           0          0   \n",
       "2     1      1         0           0        0      0           0          0   \n",
       "3     1      1         0           0        0      0           0          0   \n",
       "4     0      0         0           0        0      1           0          0   \n",
       "\n",
       "   Other  State Hwy  ...  VIOL_LICENSE_L  VIOL_INVESTIGATIVE_I  \\\n",
       "0      0          1  ...               0                     0   \n",
       "1      0          1  ...               0                     0   \n",
       "2      0          0  ...               0                     0   \n",
       "3      0          0  ...               0                     0   \n",
       "4      0          0  ...               0                     0   \n",
       "\n",
       "   MOVING_SPEED_S  MOVING_LANE_I  MOVING_TAIL_T  MOVING_CMV_C  \\\n",
       "0               0              0              0             0   \n",
       "1               1              0              0             0   \n",
       "2               1              0              0             0   \n",
       "3               0              0              0             0   \n",
       "4               1              0              0             0   \n",
       "\n",
       "   MOVING_SIGNAL_F  MOVING_OTHER_O  Resident  Citation  \n",
       "0                0               0         0         0  \n",
       "1                0               0         1         0  \n",
       "2                0               0         0         1  \n",
       "3                0               0         1         0  \n",
       "4                0               0         1         1  \n",
       "\n",
       "[5 rows x 25 columns]"
      ]
     },
     "metadata": {},
     "output_type": "display_data"
    },
    {
     "data": {
      "text/plain": [
       "(11795, 24)"
      ]
     },
     "metadata": {},
     "output_type": "display_data"
    },
    {
     "data": {
      "text/plain": [
       "(5810, 24)"
      ]
     },
     "metadata": {},
     "output_type": "display_data"
    },
    {
     "name": "stdout",
     "output_type": "stream",
     "text": [
      "The updated model accuracy score with 10 decision trees : 0.6368\n"
     ]
    }
   ],
   "source": [
    "res_dummies = pd.get_dummies(cleaned_VSR['RES_JURISDICTION'], drop_first = True)\n",
    "res_dummies.rename(columns={'Y': 'Resident'}, inplace = True)\n",
    "\n",
    "viol_dummies = pd.get_dummies(cleaned_VSR[['VIOL_EQUIPMENT', 'VIOL_LICENSE', 'VIOL_INVESTIGATIVE']])\n",
    "\n",
    "VSR_Rand_For2 = pd.concat([sex_dummies, race_dummies, stop_loc_dummies, age_dummies, viol_dummies, moving_viol_dummies, res_dummies, cit_dummies], axis=1)\n",
    "\n",
    "display(VSR_Rand_For2.head())\n",
    "\n",
    "X = VSR_Rand_For2.drop(['Citation'], axis=1)\n",
    "y = VSR_Rand_For2['Citation']\n",
    "\n",
    "X_train, X_test, y_train, y_test = train_test_split(X, y, test_size = 0.33, random_state = 42)\n",
    "display(X_train.shape, X_test.shape)\n",
    "\n",
    "rfc.fit(X_train, y_train)\n",
    "y_pred = rfc.predict(X_test)\n",
    "\n",
    "# How did we do this time?\n",
    "print('The updated model accuracy score with 10 decision trees : {0:0.4f}'. format(accuracy_score(y_test, y_pred)))"
   ]
  },
  {
   "cell_type": "code",
   "execution_count": 14,
   "metadata": {},
   "outputs": [
    {
     "data": {
      "image/png": "[encoded data removed]",
      "text/plain": [
       "<Figure size 432x288 with 1 Axes>"
      ]
     },
     "metadata": {
      "needs_background": "light"
     },
     "output_type": "display_data"
    }
   ],
   "source": [
    "feature_scores = pd.Series(rfc.feature_importances_, index=X_train.columns).sort_values(ascending=False)\n",
    "feature_scores\n",
    "\n",
    "# Plotting again\n",
    "sns.barplot(x=feature_scores, y=feature_scores.index)\n",
    "plt.xlabel('Feature Importance Score')\n",
    "plt.ylabel('Features')\n",
    "plt.title(\"Visualizing Important Features\")\n",
    "plt.show()"
   ]
  },
  {
   "cell_type": "markdown",
   "metadata": {},
   "source": [
    "#### That didn't help us much, but it also didn't hurt too  much. Let's see if increasing the amount of decision trees in our forest helps!"
   ]
  },
  {
   "cell_type": "code",
   "execution_count": 15,
   "metadata": {},
   "outputs": [
    {
     "data": {
      "text/plain": [
       "(11795, 24)"
      ]
     },
     "metadata": {},
     "output_type": "display_data"
    },
    {
     "data": {
      "text/plain": [
       "(5810, 24)"
      ]
     },
     "metadata": {},
     "output_type": "display_data"
    },
    {
     "name": "stdout",
     "output_type": "stream",
     "text": [
      "The updated model accuracy score with 1000 decision trees : 0.6403\n"
     ]
    }
   ],
   "source": [
    "rfc = RandomForestClassifier(n_estimators=1000, random_state=42)\n",
    "X = VSR_Rand_For2.drop(['Citation'], axis=1)\n",
    "y = VSR_Rand_For2['Citation']\n",
    "\n",
    "X_train, X_test, y_train, y_test = train_test_split(X, y, test_size = 0.33, random_state = 42)\n",
    "display(X_train.shape, X_test.shape)\n",
    "\n",
    "rfc.fit(X_train, y_train)\n",
    "y_pred = rfc.predict(X_test)\n",
    "\n",
    "# How did we do this time?\n",
    "print('The updated model accuracy score with 1000 decision trees : {0:0.4f}'. format(accuracy_score(y_test, y_pred)))"
   ]
  },
  {
   "cell_type": "markdown",
   "metadata": {},
   "source": [
    "#### Increasing our number of trees didn't really help us too much! Let's dig into the parameters to investigate further!"
   ]
  },
  {
   "cell_type": "code",
   "execution_count": 16,
   "metadata": {},
   "outputs": [
    {
     "name": "stdout",
     "output_type": "stream",
     "text": [
      "Parameters currently in use:\n",
      "\n",
      "{'bootstrap': True,\n",
      " 'ccp_alpha': 0.0,\n",
      " 'class_weight': None,\n",
      " 'criterion': 'gini',\n",
      " 'max_depth': None,\n",
      " 'max_features': 'auto',\n",
      " 'max_leaf_nodes': None,\n",
      " 'max_samples': None,\n",
      " 'min_impurity_decrease': 0.0,\n",
      " 'min_impurity_split': None,\n",
      " 'min_samples_leaf': 1,\n",
      " 'min_samples_split': 2,\n",
      " 'min_weight_fraction_leaf': 0.0,\n",
      " 'n_estimators': 1000,\n",
      " 'n_jobs': None,\n",
      " 'oob_score': False,\n",
      " 'random_state': 42,\n",
      " 'verbose': 0,\n",
      " 'warm_start': False}\n"
     ]
    }
   ],
   "source": [
    "from pprint import pprint\n",
    "\n",
    "# Look at parameters used by our current forest\n",
    "print('Parameters currently in use:\\n')\n",
    "pprint(rfc.get_params())"
   ]
  },
  {
   "cell_type": "markdown",
   "metadata": {},
   "source": [
    "#### Let's try using the RandomizedSearchCV to try to fine tune our hyperparameters!"
   ]
  },
  {
   "cell_type": "code",
   "execution_count": 17,
   "metadata": {},
   "outputs": [
    {
     "name": "stdout",
     "output_type": "stream",
     "text": [
      "{'bootstrap': [True, False],\n",
      " 'max_depth': [10, 20, 30, 40, 50, 60, 70, 80, 90, 100, 110, None],\n",
      " 'max_features': ['auto', 'sqrt'],\n",
      " 'min_samples_leaf': [1, 2, 4],\n",
      " 'min_samples_split': [2, 5, 10],\n",
      " 'n_estimators': [10, 120, 230, 340, 450, 560, 670, 780, 890, 1000]}\n"
     ]
    }
   ],
   "source": [
    "from sklearn.model_selection import RandomizedSearchCV\n",
    "\n",
    "# Number of trees in random forest\n",
    "n_estimators = [int(x) for x in np.linspace(start = 10, stop = 1000, num = 10)]\n",
    "\n",
    "# Number of features to consider at every split\n",
    "max_features = ['auto', 'sqrt']\n",
    "\n",
    "# Maximum number of levels in tree\n",
    "max_depth = [int(x) for x in np.linspace(10, 110, num = 11)]\n",
    "max_depth.append(None)\n",
    "\n",
    "# Minimum number of samples required to split a node\n",
    "min_samples_split = [2, 5, 10]\n",
    "\n",
    "# Minimum number of samples required at each leaf node\n",
    "min_samples_leaf = [1, 2, 4]\n",
    "\n",
    "# Method of selecting samples for training each tree\n",
    "bootstrap = [True, False]\n",
    "\n",
    "# Create the random grid\n",
    "random_grid = {'n_estimators': n_estimators,\n",
    "               'max_features': max_features,\n",
    "               'max_depth': max_depth,\n",
    "               'min_samples_split': min_samples_split,\n",
    "               'min_samples_leaf': min_samples_leaf,\n",
    "               'bootstrap': bootstrap}\n",
    "pprint(random_grid)"
   ]
  },
  {
   "cell_type": "code",
   "execution_count": 18,
   "metadata": {},
   "outputs": [
    {
     "name": "stdout",
     "output_type": "stream",
     "text": [
      "Fitting 3 folds for each of 100 candidates, totalling 300 fits\n"
     ]
    },
    {
     "name": "stderr",
     "output_type": "stream",
     "text": [
      "[Parallel(n_jobs=-1)]: Using backend LokyBackend with 4 concurrent workers.\n",
      "[Parallel(n_jobs=-1)]: Done  33 tasks      | elapsed:   38.0s\n",
      "[Parallel(n_jobs=-1)]: Done 154 tasks      | elapsed:  3.0min\n",
      "[Parallel(n_jobs=-1)]: Done 300 out of 300 | elapsed:  5.8min finished\n"
     ]
    },
    {
     "data": {
      "text/plain": [
       "RandomizedSearchCV(cv=3, estimator=RandomForestClassifier(), n_iter=100,\n",
       "                   n_jobs=-1,\n",
       "                   param_distributions={'bootstrap': [True, False],\n",
       "                                        'max_depth': [10, 20, 30, 40, 50, 60,\n",
       "                                                      70, 80, 90, 100, 110,\n",
       "                                                      None],\n",
       "                                        'max_features': ['auto', 'sqrt'],\n",
       "                                        'min_samples_leaf': [1, 2, 4],\n",
       "                                        'min_samples_split': [2, 5, 10],\n",
       "                                        'n_estimators': [10, 120, 230, 340, 450,\n",
       "                                                         560, 670, 780, 890,\n",
       "                                                         1000]},\n",
       "                   random_state=42, verbose=2)"
      ]
     },
     "execution_count": 18,
     "metadata": {},
     "output_type": "execute_result"
    }
   ],
   "source": [
    "# Use the random grid to search for best hyperparameters\n",
    "# First create the base model to tune\n",
    "rfc = RandomForestClassifier()\n",
    "# Random search of parameters, using 3 fold cross validation, \n",
    "# search across 100 different combinations, and use all available cores\n",
    "rfc_random = RandomizedSearchCV(estimator = rfc, param_distributions = random_grid, n_iter = 100, cv = 3, verbose=2, random_state=42, n_jobs = -1)\n",
    "# Fit the random search model\n",
    "rfc_random.fit(X_train, y_train)"
   ]
  },
  {
   "cell_type": "code",
   "execution_count": 19,
   "metadata": {},
   "outputs": [
    {
     "data": {
      "text/plain": [
       "{'n_estimators': 780,\n",
       " 'min_samples_split': 2,\n",
       " 'min_samples_leaf': 4,\n",
       " 'max_features': 'sqrt',\n",
       " 'max_depth': 10,\n",
       " 'bootstrap': True}"
      ]
     },
     "metadata": {},
     "output_type": "display_data"
    },
    {
     "name": "stdout",
     "output_type": "stream",
     "text": [
      "The random search model accuracy score is: 0.6639\n"
     ]
    }
   ],
   "source": [
    "# Which combination worked best?\n",
    "display(rfc_random.best_params_)\n",
    "\n",
    "# How does our random best combination fare?\n",
    "best_random = rfc_random.best_estimator_\n",
    "y_pred = rfc_random.predict(X_test)\n",
    "\n",
    "print('The random search model accuracy score is: {0:0.4f}'. format(accuracy_score(y_test, y_pred)))"
   ]
  },
  {
   "cell_type": "markdown",
   "metadata": {},
   "source": [
    "#### There's about a 2% improvement in predictive performance! Let's see if we can now use GridSearchCV to further fine tune!"
   ]
  },
  {
   "cell_type": "code",
   "execution_count": 20,
   "metadata": {},
   "outputs": [],
   "source": [
    "from sklearn.model_selection import GridSearchCV\n",
    "\n",
    "# First we create a new parameter grid based on the results of the best random search parameters\n",
    "param_grid = {\n",
    "    'bootstrap': [True],\n",
    "    'max_depth': [10, 20, 30, 40],\n",
    "    'max_features': [2, 3],\n",
    "    'min_samples_leaf': [3, 4, 5],\n",
    "    'min_samples_split': [2, 4, 6],\n",
    "    'n_estimators': [500, 700, 900, 1000]\n",
    "}\n",
    "\n",
    "# Instantiate the grid search model\n",
    "rfc = RandomForestClassifier()\n",
    "grid_search = GridSearchCV(estimator = rfc, param_grid = param_grid, \n",
    "                          cv = 3, n_jobs = -1, verbose = 2)"
   ]
  },
  {
   "cell_type": "code",
   "execution_count": 21,
   "metadata": {},
   "outputs": [
    {
     "name": "stdout",
     "output_type": "stream",
     "text": [
      "Fitting 3 folds for each of 288 candidates, totalling 864 fits\n"
     ]
    },
    {
     "name": "stderr",
     "output_type": "stream",
     "text": [
      "[Parallel(n_jobs=-1)]: Using backend LokyBackend with 4 concurrent workers.\n",
      "[Parallel(n_jobs=-1)]: Done  33 tasks      | elapsed:   37.3s\n",
      "[Parallel(n_jobs=-1)]: Done 154 tasks      | elapsed:  3.0min\n",
      "[Parallel(n_jobs=-1)]: Done 357 tasks      | elapsed:  7.1min\n",
      "[Parallel(n_jobs=-1)]: Done 640 tasks      | elapsed: 13.0min\n",
      "[Parallel(n_jobs=-1)]: Done 864 out of 864 | elapsed: 17.7min finished\n"
     ]
    },
    {
     "data": {
      "text/plain": [
       "{'bootstrap': True,\n",
       " 'max_depth': 10,\n",
       " 'max_features': 3,\n",
       " 'min_samples_leaf': 5,\n",
       " 'min_samples_split': 6,\n",
       " 'n_estimators': 700}"
      ]
     },
     "metadata": {},
     "output_type": "display_data"
    }
   ],
   "source": [
    "# Now we fit the grid search to the data\n",
    "grid_search.fit(X_train, y_train)\n",
    "\n",
    "# What were the best parameters this time?\n",
    "display(grid_search.best_params_)"
   ]
  },
  {
   "cell_type": "code",
   "execution_count": 22,
   "metadata": {},
   "outputs": [
    {
     "name": "stdout",
     "output_type": "stream",
     "text": [
      "The grid search model accuracy score is : 0.6639\n"
     ]
    }
   ],
   "source": [
    "best_grid = grid_search.best_estimator_\n",
    "y_pred = rfc_random.predict(X_test)\n",
    "\n",
    "print('The grid search model accuracy score is : {0:0.4f}'. format(accuracy_score(y_test, y_pred)))"
   ]
  },
  {
   "cell_type": "markdown",
   "metadata": {},
   "source": [
    "#### This didn't result in *any* improvement!"
   ]
  },
  {
   "cell_type": "markdown",
   "metadata": {},
   "source": [
    "#### Conclusion\n",
    "\n",
    "After fine tuning our baseline model, we were able to increase it's predictive power by ~2%!\n",
    "\n",
    "It is still only ~66% accurate, however. By choosing a RandomForestClassifier algorithm, we were forced to not use certain features, like our dates and times of each vehicle stop. More research will be done to see if it's possible to include these in a future model, but it's also possible to get more accurate predictions on this largely categorical dataset by employing a differen algorithm altogether.\n",
    "\n",
    "Other possible tweaks to this model would include using a different criteria, such as entropy/information gain to determine the node splits.\n",
    "\n",
    "#### Moving forward...\n",
    "\n",
    "During my research for this project and dataset, I learned that the State of Missouri changed the vehicle stop report template, with a stated goal to 'allow better analysis with the hope of driving more informed dialogue surrounding the report.' (https://ago.mo.gov/home/vehicle-stops-report)\n",
    "\n",
    "I will be doing a comparative study between the two different report formats once enough data has been collected, in order to independently verify if this stated goal has been reached. As the 2018 analysis (https://github.com/BHuesmann/u_city_2018_vehicle_stops/blob/master/u_city_2018_vehicle_stops.ipynb) showed, there was a **significant** amount of stops that occurred for an 'Other' moving violation, with no further clarification. As I identified that as an area of concern, and moving violations will no longer have their type recorded in these reports, the new numbers must be carefully scrutinized in order to inform others about the effects these changes have had. "
   ]
  }
 ],
 "metadata": {
  "kernelspec": {
   "display_name": "Python 3",
   "language": "python",
   "name": "python3"
  },
  "language_info": {
   "codemirror_mode": {
    "name": "ipython",
    "version": 3
   },
   "file_extension": ".py",
   "mimetype": "text/x-python",
   "name": "python",
   "nbconvert_exporter": "python",
   "pygments_lexer": "ipython3",
   "version": "3.8.5"
  }
 },
 "nbformat": 4,
 "nbformat_minor": 4
}
